{
 "cells": [
  {
   "cell_type": "markdown",
   "id": "d49c35be",
   "metadata": {},
   "source": [
    "### Load libraries"
   ]
  },
  {
   "cell_type": "code",
   "execution_count": 1,
   "id": "9a296827",
   "metadata": {},
   "outputs": [
    {
     "name": "stderr",
     "output_type": "stream",
     "text": [
      "/usr/local/lib/python3.10/dist-packages/anndata/utils.py:429: FutureWarning: Importing read_csv from `anndata` is deprecated. Import anndata.io.read_csv instead.\n",
      "  warnings.warn(msg, FutureWarning)\n",
      "/usr/local/lib/python3.10/dist-packages/anndata/utils.py:429: FutureWarning: Importing read_excel from `anndata` is deprecated. Import anndata.io.read_excel instead.\n",
      "  warnings.warn(msg, FutureWarning)\n",
      "/usr/local/lib/python3.10/dist-packages/anndata/utils.py:429: FutureWarning: Importing read_hdf from `anndata` is deprecated. Import anndata.io.read_hdf instead.\n",
      "  warnings.warn(msg, FutureWarning)\n",
      "/usr/local/lib/python3.10/dist-packages/anndata/utils.py:429: FutureWarning: Importing read_loom from `anndata` is deprecated. Import anndata.io.read_loom instead.\n",
      "  warnings.warn(msg, FutureWarning)\n",
      "/usr/local/lib/python3.10/dist-packages/anndata/utils.py:429: FutureWarning: Importing read_mtx from `anndata` is deprecated. Import anndata.io.read_mtx instead.\n",
      "  warnings.warn(msg, FutureWarning)\n",
      "/usr/local/lib/python3.10/dist-packages/anndata/utils.py:429: FutureWarning: Importing read_text from `anndata` is deprecated. Import anndata.io.read_text instead.\n",
      "  warnings.warn(msg, FutureWarning)\n",
      "/usr/local/lib/python3.10/dist-packages/anndata/utils.py:429: FutureWarning: Importing read_umi_tools from `anndata` is deprecated. Import anndata.io.read_umi_tools instead.\n",
      "  warnings.warn(msg, FutureWarning)\n"
     ]
    }
   ],
   "source": [
    "# Basic libraries\n",
    "import os, sys\n",
    "from datetime import date\n",
    "import pandas as pd \n",
    "import numpy as np \n",
    "import scanpy as sc \n",
    "import seaborn as sns\n",
    "import matplotlib.pyplot as plt\n",
    "import warnings\n",
    "\n",
    "# DGE analysis\n",
    "import pydeseq2\n",
    "from pydeseq2.dds import DeseqDataSet\n",
    "from pydeseq2.ds import DeseqStats\n",
    "import decoupler \n",
    "\n",
    "# GO analysis\n",
    "import matplotlib.pyplot as plt\n",
    "from matplotlib.colors import LinearSegmentedColormap\n",
    "import seaborn as sns\n",
    "import gseapy as gp\n",
    "from gseapy.plot import gseaplot"
   ]
  },
  {
   "cell_type": "markdown",
   "id": "3f2eeefc",
   "metadata": {},
   "source": [
    "<i><b> Set the home directory </b></i>"
   ]
  },
  {
   "cell_type": "code",
   "execution_count": 2,
   "id": "3937c698",
   "metadata": {},
   "outputs": [
    {
     "data": {
      "text/plain": [
       "'/group/kalebic/Nikola/1_single_cell_final/Nikola_final/final/scdgomics'"
      ]
     },
     "execution_count": 2,
     "metadata": {},
     "output_type": "execute_result"
    }
   ],
   "source": [
    "# Define the home_path \n",
    "os.environ['HOME_Nikola_scdgomics'] = \"/group/kalebic/Nikola/1_single_cell_final/Nikola_final/final/scdgomics\"\n",
    "home_path = os.getenv(\"HOME_Nikola_scdgomics\")\n",
    "home_path"
   ]
  },
  {
   "cell_type": "markdown",
   "id": "f12ec138",
   "metadata": {},
   "source": [
    "<i><b> Set the container image </b></i>"
   ]
  },
  {
   "cell_type": "code",
   "execution_count": 3,
   "id": "890c9147",
   "metadata": {},
   "outputs": [
    {
     "name": "stdout",
     "output_type": "stream",
     "text": [
      "The last use of the container: 2025-06-22\n"
     ]
    }
   ],
   "source": [
    "# Container used for this analysis can be found here : cokorac/cs-core-image-amd64:dev\n",
    "day = date.today()\n",
    "print('The last use of the container:', day)"
   ]
  },
  {
   "cell_type": "markdown",
   "id": "d732094f",
   "metadata": {},
   "source": [
    "### Load files"
   ]
  },
  {
   "cell_type": "code",
   "execution_count": 4,
   "id": "35254796",
   "metadata": {},
   "outputs": [],
   "source": [
    "# Load the up-regulated DEGs\n",
    "degs_up_hsNcx_vs_mmNcx_and_mmDG_vs_mmNcx = pd.read_csv(\"/group/kalebic/Nikola/1_single_cell_final/Nikola_final/final/scdgomics/results/degs/intersected_degs/DEGs_up_hNcx_vs_mmDG_and_mm_DG_vs_mmNcx.csv\")"
   ]
  },
  {
   "cell_type": "code",
   "execution_count": 5,
   "id": "8ff1dfff",
   "metadata": {},
   "outputs": [],
   "source": [
    "# Load the background genes \n",
    "background_hsNcx_vs_mmDG = pd.DataFrame(pd.read_csv(\"/group/kalebic/Nikola/1_single_cell_final/Nikola_final/final/scdgomics/results/degs/hs_ncx_rg2_vs_mm_dg_rg_1/background_genes_hs_ncx_rg2_vs_mm_dg_rg_1.csv\"))\n",
    "background_hsNcx_vs_mmNcx = pd.DataFrame(pd.read_csv(\"/group/kalebic/Nikola/1_single_cell_final/Nikola_final/final/scdgomics/results/degs/hs_ncx_rg2_vs_mm_ncx_rg/background_genes_hs_ncx_rg2_vs_mm_ncx_rg.csv\"))\n",
    "background_mmDG_vs_mmNcx = pd.DataFrame(pd.read_csv(\"/group/kalebic/Nikola/1_single_cell_final/Nikola_final/final/scdgomics/results/degs/mm_dg_rg1_vs_mm_ncx_rg/background_genes_mm_dg_rg1_vs_mm_ncx_rg.csv\"))"
   ]
  },
  {
   "cell_type": "code",
   "execution_count": 6,
   "id": "1b81d90b",
   "metadata": {},
   "outputs": [],
   "source": [
    "# Convert backgrounds to lists of genes \n",
    "background_list = []\n",
    "for background in [background_hsNcx_vs_mmDG, background_hsNcx_vs_mmNcx, background_mmDG_vs_mmNcx]:\n",
    "    background_list.append(background['Unnamed: 0'].tolist())\n",
    "\n",
    "background_hsNcx_vs_mmDG, background_hsNcx_vs_mmNcx, background_mmDG_vs_mmNcx = background_list"
   ]
  },
  {
   "cell_type": "code",
   "execution_count": 7,
   "id": "6e9bd354",
   "metadata": {},
   "outputs": [
    {
     "name": "stdout",
     "output_type": "stream",
     "text": [
      "9918\n"
     ]
    }
   ],
   "source": [
    "# Intersect backgrounds \n",
    "intersected_bckgs = set(background_hsNcx_vs_mmDG).union(background_hsNcx_vs_mmNcx, background_mmDG_vs_mmNcx)\n",
    "print(len(intersected_bckgs))"
   ]
  },
  {
   "cell_type": "markdown",
   "id": "9ca2cd5a",
   "metadata": {},
   "source": [
    "### GO analysis"
   ]
  },
  {
   "cell_type": "code",
   "execution_count": 8,
   "id": "9b69161c",
   "metadata": {},
   "outputs": [],
   "source": [
    "# Load the ontology lists\n",
    "ontology_list = ['/group/kalebic/Nikola/1_single_cell_final/Chiara_final/scadd1ko/.cache/msigdb/c5.go.bp.v2023.2.Hs.symbols.gmt']"
   ]
  },
  {
   "cell_type": "code",
   "execution_count": 9,
   "id": "9160d4d6",
   "metadata": {},
   "outputs": [],
   "source": [
    "# GO for up_regulated in hsNcx_vs_mmDG_vs_mmNcx\n",
    "up_hsNcx_vs_mmDG_vs_mmNcx = gp.enrichr(gene_list= degs_up_hsNcx_vs_mmNcx_and_mmDG_vs_mmNcx, \n",
    "                                       gene_sets= ontology_list, \n",
    "                                       organism='Human', \n",
    "                                       cutoff=0.5, \n",
    "                                       background = intersected_bckgs,\n",
    "                                       no_plot= True)\n",
    "\n",
    "up_hsNcx_vs_mmDG_vs_mmNcx_df = pd.DataFrame(up_hsNcx_vs_mmDG_vs_mmNcx.results)\n",
    "# Save the GO results\n",
    "up_hsNcx_vs_mmDG_vs_mmNcx_df.to_csv('/group/kalebic/Nikola/1_single_cell_final/Nikola_final/final/scdgomics/results/GO/intersected_degs_GO/GO_hsNcx_vs_mmNcx_and_mmDG_vs_mmNcx_enrichment.csv')"
   ]
  },
  {
   "cell_type": "code",
   "execution_count": 10,
   "id": "768c2af2",
   "metadata": {},
   "outputs": [],
   "source": [
    "# Define the 'Gene ontology type' \n",
    "up_hsNcx_vs_mmDG_vs_mmNcx_df['Ontology_type'] = up_hsNcx_vs_mmDG_vs_mmNcx_df.Gene_set.str[:8]"
   ]
  },
  {
   "cell_type": "code",
   "execution_count": 11,
   "id": "a46711b5",
   "metadata": {},
   "outputs": [],
   "source": [
    "# Remove the insignificant terms\n",
    "up_hsNcx_vs_mmDG_vs_mmNcx_df_sig = up_hsNcx_vs_mmDG_vs_mmNcx_df[up_hsNcx_vs_mmDG_vs_mmNcx_df['Adjusted P-value'] < 0.05]"
   ]
  },
  {
   "cell_type": "code",
   "execution_count": 12,
   "id": "4fb43f6b",
   "metadata": {},
   "outputs": [],
   "source": [
    "# Sort based on the Combined Score\n",
    "up_hsNcx_vs_mmDG_vs_mmNcx_df_sig = up_hsNcx_vs_mmDG_vs_mmNcx_df_sig.sort_values(by = 'Combined Score', ascending=False)"
   ]
  },
  {
   "cell_type": "code",
   "execution_count": 13,
   "id": "550d1da4",
   "metadata": {},
   "outputs": [],
   "source": [
    "# Clean the 'Term' column \n",
    "up_hsNcx_vs_mmDG_vs_mmNcx_df_sig['Term_clean'] = up_hsNcx_vs_mmDG_vs_mmNcx_df_sig.Term.apply(lambda x: x[5:])\n",
    "up_hsNcx_vs_mmDG_vs_mmNcx_df_sig[\"Term_clean\"] = up_hsNcx_vs_mmDG_vs_mmNcx_df_sig[\"Term_clean\"].str.replace(\"_\", \" \").str.capitalize()"
   ]
  },
  {
   "cell_type": "code",
   "execution_count": 14,
   "id": "0177a092",
   "metadata": {},
   "outputs": [],
   "source": [
    "# Subset the list of 'up-regulated' GO terms to terms of interest\n",
    "# up-regulated terms (total : 78)\n",
    "terms_of_interest_up = ['Extracellular matrix assembly', 'Amino acid transport', 'Sphingolipid biosynthetic process', \n",
    "                        'Gliogenesis', 'Neurogenesis', 'Cellular component morphogenesis', 'Lipid metabolic process', \n",
    "                        'Cell motility', 'Cell morphogenesis', 'Cell part morphogenesis']\n",
    "\n",
    "up_hsNcx_vs_mmDG_vs_mmNcx_df_sig_ss = up_hsNcx_vs_mmDG_vs_mmNcx_df_sig[up_hsNcx_vs_mmDG_vs_mmNcx_df_sig['Term_clean'].isin(terms_of_interest_up)]"
   ]
  },
  {
   "cell_type": "code",
   "execution_count": 15,
   "id": "2836bc9c",
   "metadata": {},
   "outputs": [],
   "source": [
    "  # Sort values based on 'Modified Combined Score'\n",
    "up_hsNcx_vs_mmDG_vs_mmNcx_df_sig_ss = up_hsNcx_vs_mmDG_vs_mmNcx_df_sig_ss.sort_values(by='Combined Score', ascending=False)"
   ]
  },
  {
   "cell_type": "code",
   "execution_count": 16,
   "id": "44ac792f",
   "metadata": {},
   "outputs": [
    {
     "data": {
      "image/png": "[encoded data removed]",
      "text/plain": [
       "<Figure size 400x500 with 2 Axes>"
      ]
     },
     "metadata": {},
     "output_type": "display_data"
    }
   ],
   "source": [
    "%run -i \"/group/kalebic/Nikola/1_single_cell_final/Nikola_final/final/scdgomics/helper_functions/GO_barplot.py\"\n",
    "# Plot\n",
    "GO_barplot(up_hsNcx_vs_mmDG_vs_mmNcx_df_sig_ss)\n",
    "# Save the plot\n",
    "fig = plt.gcf()\n",
    "fig.savefig('/group/kalebic/Nikola/1_single_cell_final/Nikola_final/final/scdgomics/plots/GO/intersected_degs_GO/GO_up_hsNcx_vs_mmNcx_and_mmDG_vs_mmNcx_barplot.pdf', dpi = 300, bbox_inches = 'tight')"
   ]
  }
 ],
 "metadata": {
  "kernelspec": {
   "display_name": "Python 3 (ipykernel)",
   "language": "python",
   "name": "python3"
  },
  "language_info": {
   "codemirror_mode": {
    "name": "ipython",
    "version": 3
   },
   "file_extension": ".py",
   "mimetype": "text/x-python",
   "name": "python",
   "nbconvert_exporter": "python",
   "pygments_lexer": "ipython3",
   "version": "3.10.12"
  }
 },
 "nbformat": 4,
 "nbformat_minor": 5
}
