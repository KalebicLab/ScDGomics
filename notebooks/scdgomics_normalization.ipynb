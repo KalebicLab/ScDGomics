{
 "cells": [
  {
   "cell_type": "markdown",
   "metadata": {},
   "source": [
    "### Load the libraries"
   ]
  },
  {
   "cell_type": "code",
   "execution_count": 1,
   "metadata": {},
   "outputs": [
    {
     "name": "stderr",
     "output_type": "stream",
     "text": [
      "/usr/local/lib/python3.10/dist-packages/anndata/utils.py:429: FutureWarning: Importing read_csv from `anndata` is deprecated. Import anndata.io.read_csv instead.\n",
      "  warnings.warn(msg, FutureWarning)\n",
      "/usr/local/lib/python3.10/dist-packages/anndata/utils.py:429: FutureWarning: Importing read_excel from `anndata` is deprecated. Import anndata.io.read_excel instead.\n",
      "  warnings.warn(msg, FutureWarning)\n",
      "/usr/local/lib/python3.10/dist-packages/anndata/utils.py:429: FutureWarning: Importing read_hdf from `anndata` is deprecated. Import anndata.io.read_hdf instead.\n",
      "  warnings.warn(msg, FutureWarning)\n",
      "/usr/local/lib/python3.10/dist-packages/anndata/utils.py:429: FutureWarning: Importing read_loom from `anndata` is deprecated. Import anndata.io.read_loom instead.\n",
      "  warnings.warn(msg, FutureWarning)\n",
      "/usr/local/lib/python3.10/dist-packages/anndata/utils.py:429: FutureWarning: Importing read_mtx from `anndata` is deprecated. Import anndata.io.read_mtx instead.\n",
      "  warnings.warn(msg, FutureWarning)\n",
      "/usr/local/lib/python3.10/dist-packages/anndata/utils.py:429: FutureWarning: Importing read_text from `anndata` is deprecated. Import anndata.io.read_text instead.\n",
      "  warnings.warn(msg, FutureWarning)\n",
      "/usr/local/lib/python3.10/dist-packages/anndata/utils.py:429: FutureWarning: Importing read_umi_tools from `anndata` is deprecated. Import anndata.io.read_umi_tools instead.\n",
      "  warnings.warn(msg, FutureWarning)\n"
     ]
    }
   ],
   "source": [
    "# Load the libraries \n",
    "import os, sys\n",
    "import pandas as pd \n",
    "import numpy as np \n",
    "import scanpy as sc\n",
    "import anndata as ad \n",
    "from pyensembl import EnsemblRelease\n",
    "import sqlite3"
   ]
  },
  {
   "cell_type": "markdown",
   "metadata": {},
   "source": [
    "<i><b> Print the container version </b></i>"
   ]
  },
  {
   "cell_type": "code",
   "execution_count": 2,
   "metadata": {},
   "outputs": [],
   "source": [
    "# Container used for this analysis can be found here : cokorac/cs-core-image-amd64:dev (date of use : 24/01/25)"
   ]
  },
  {
   "cell_type": "markdown",
   "metadata": {},
   "source": [
    "<i><b> Set the home directory </b></i>"
   ]
  },
  {
   "cell_type": "code",
   "execution_count": 3,
   "metadata": {},
   "outputs": [
    {
     "data": {
      "text/plain": [
       "'/group/kalebic/Nikola/1_single_cell_final/Nikola_final/final/scdgomics'"
      ]
     },
     "execution_count": 3,
     "metadata": {},
     "output_type": "execute_result"
    }
   ],
   "source": [
    "# Define the home_path \n",
    "os.environ['HOME_Nikola_scdgomics'] = \"/group/kalebic/Nikola/1_single_cell_final/Nikola_final/final/scdgomics\"\n",
    "home_path = os.getenv(\"HOME_Nikola_scdgomics\")\n",
    "home_path"
   ]
  },
  {
   "cell_type": "markdown",
   "metadata": {},
   "source": [
    "### Load the data"
   ]
  },
  {
   "cell_type": "code",
   "execution_count": 4,
   "metadata": {},
   "outputs": [
    {
     "name": "stderr",
     "output_type": "stream",
     "text": [
      "/usr/local/lib/python3.10/dist-packages/anndata/_core/aligned_df.py:68: ImplicitModificationWarning: Transforming to str index.\n",
      "  warnings.warn(\"Transforming to str index.\", ImplicitModificationWarning)\n"
     ]
    }
   ],
   "source": [
    "# Load the Polioudakis and Trevino raw counts\n",
    "adata_human_neocortex = sc.read_h5ad(\"/group/kalebic/Nikola/1_single_cell_final/Nikola_final/final/scmorpho_final/data_versions_tissue/Adata_raw.h5ad\")\n",
    "# Load the Linnarsson raw counts\n",
    "adata_mouse_dg = sc.read_h5ad(\"/group/kalebic/Nikola/1_single_cell_final/Nikola_final/final/scdgomics/data_versions/Adata_raw.h5ad\")"
   ]
  },
  {
   "cell_type": "code",
   "execution_count": 5,
   "metadata": {},
   "outputs": [
    {
     "data": {
      "text/plain": [
       "Index(['0610007P14RIK', '0610009B22RIK', '0610009L18RIK', '0610009O20RIK',\n",
       "       '0610010F05RIK', '0610010K14RIK', '0610011F06RIK', '0610012D04RIK',\n",
       "       '0610012G03RIK', '0610025J13RIK',\n",
       "       ...\n",
       "       'MT-CO2', 'MT-CO3', 'MT-CYTB', 'MT-ND1', 'MT-ND2', 'MT-ND3', 'MT-ND4',\n",
       "       'MT-ND4L', 'MT-ND5', 'MT-ND6'],\n",
       "      dtype='object', name='cellid', length=27933)"
      ]
     },
     "execution_count": 5,
     "metadata": {},
     "output_type": "execute_result"
    }
   ],
   "source": [
    "# Convert mouse gene names from lower to uppercase\n",
    "adata_mouse_dg.var_names.str.upper()"
   ]
  },
  {
   "cell_type": "markdown",
   "metadata": {},
   "source": [
    "### Data wrangling"
   ]
  },
  {
   "cell_type": "markdown",
   "metadata": {},
   "source": [
    "> *** NOTE: Find the downloaded ensembl releases for human and mouse genomes here : '/group/kalebic/Nikola/1_single_cell_final/Nikola_final/final/scdgomics/ensembl_release_104'"
   ]
  },
  {
   "cell_type": "code",
   "execution_count": 6,
   "metadata": {},
   "outputs": [],
   "source": [
    "# Download the ENSEMBL RELEASE 104 \n",
    "\n",
    "## human\n",
    "\n",
    "#data = EnsemblRelease(104)\n",
    "#data.download()\n",
    "#data.index()\n",
    "#all_genes = data.genes()\n",
    "#protein_coding_hs = [gene.gene_name for gene in all_genes if gene.biotype == 'protein_coding']\n",
    "#len(protein_coding_hs)\n",
    "\n",
    "## mouse\n",
    "\n",
    "#data = EnsemblRelease(104, species='mus_musculus')\n",
    "#data.download()\n",
    "#data.index()\n",
    "#all_genes = data.genes()\n",
    "#protein_coding_mm = [gene.gene_name for gene in all_genes if gene.biotype == 'protein_coding']\n",
    "#len(protein_coding_hs)"
   ]
  },
  {
   "cell_type": "code",
   "execution_count": 7,
   "metadata": {},
   "outputs": [],
   "source": [
    "# Import GTF files and keep only protein-coding genes\n",
    "## human \n",
    "human_gtf_path = '/group/kalebic/Nikola/1_single_cell_final/Nikola_final/final/scdgomics/ensembl_release_104/GRCh38/ensembl104/Homo_sapiens.GRCh38.104.gtf.db'\n",
    "connection_hs = sqlite3.connect(human_gtf_path)\n",
    "df_hs = pd.read_sql_query(\"SELECT * FROM gene;\", connection_hs)\n",
    "df_protein_coding_hs = df_hs[df_hs['gene_biotype'] == 'protein_coding']\n",
    "## mouse\n",
    "mouse_gtf_path = '/group/kalebic/Nikola/1_single_cell_final/Nikola_final/final/scdgomics/ensembl_release_104/GRCm39/ensembl104/Mus_musculus.GRCm39.104.gtf.db'\n",
    "connection_mm = sqlite3.connect(mouse_gtf_path)\n",
    "df_mm = pd.read_sql_query(\"SELECT * FROM gene;\", connection_mm)\n",
    "df_protein_coding_mm = df_mm[df_mm['gene_biotype'] == 'protein_coding']"
   ]
  },
  {
   "cell_type": "code",
   "execution_count": 8,
   "metadata": {},
   "outputs": [
    {
     "name": "stdout",
     "output_type": "stream",
     "text": [
      "19966\n",
      "21885\n"
     ]
    }
   ],
   "source": [
    "# Print the number of protein-coding genes\n",
    "print(len(df_protein_coding_hs))\n",
    "print(len(df_protein_coding_mm))"
   ]
  },
  {
   "cell_type": "code",
   "execution_count": 9,
   "metadata": {},
   "outputs": [],
   "source": [
    "# Keep only protein coding genes\n",
    "## human\n",
    "adata_human_neocortex = adata_human_neocortex[:, adata_human_neocortex.var_names.isin(df_protein_coding_hs['gene_name'].tolist())]\n",
    "## mouse \n",
    "adata_mouse_dg = adata_mouse_dg[:, adata_mouse_dg.var_names.isin(df_protein_coding_mm['gene_name'].tolist())]"
   ]
  },
  {
   "cell_type": "code",
   "execution_count": 10,
   "metadata": {},
   "outputs": [
    {
     "name": "stderr",
     "output_type": "stream",
     "text": [
      "/tmp/ipykernel_3156017/2263678302.py:2: ImplicitModificationWarning: Trying to modify attribute `.obs` of view, initializing view as actual.\n",
      "  adata_human_neocortex.obs['dataset_of_origin'] = 'Linnarsson'\n"
     ]
    }
   ],
   "source": [
    "# Add the dataset_of_origin column to Linnarsson dataset\n",
    "adata_human_neocortex.obs['dataset_of_origin'] = 'Linnarsson'"
   ]
  },
  {
   "cell_type": "code",
   "execution_count": 11,
   "metadata": {},
   "outputs": [],
   "source": [
    "# Concatenate the raw datasets \n",
    "adata_combined = ad.concat([adata_human_neocortex, adata_mouse_dg], join = 'outer')\n",
    "adata_combined.var_names_make_unique()"
   ]
  },
  {
   "cell_type": "markdown",
   "metadata": {},
   "source": [
    "### Data normalization"
   ]
  },
  {
   "cell_type": "code",
   "execution_count": 12,
   "metadata": {},
   "outputs": [],
   "source": [
    "# Create the layer for raw counts\n",
    "adata_combined.layers['counts'] = adata_combined.X.toarray().copy()"
   ]
  },
  {
   "cell_type": "code",
   "execution_count": 13,
   "metadata": {},
   "outputs": [],
   "source": [
    "# Normalize counts\n",
    "sc.pp.normalize_total(adata_combined, target_sum=1e4, exclude_highly_expressed=True)\n",
    "adata_combined.layers['normalized_counts'] = adata_combined.X.copy()"
   ]
  },
  {
   "cell_type": "code",
   "execution_count": 14,
   "metadata": {},
   "outputs": [],
   "source": [
    "# Log-transform\n",
    "sc.pp.log1p(adata_combined)\n",
    "adata_combined.layers['log_normalized_counts'] = adata_combined.X.copy()"
   ]
  },
  {
   "cell_type": "code",
   "execution_count": 15,
   "metadata": {},
   "outputs": [
    {
     "name": "stderr",
     "output_type": "stream",
     "text": [
      "... storing 'dataset_of_origin' as categorical\n",
      "... storing 'Sample name (24185 single cells)' as categorical\n",
      "... storing 'SRR run accession' as categorical\n",
      "... storing 'raw file (original file name)' as categorical\n",
      "... storing 'UMI_CellularBarcode' as categorical\n"
     ]
    }
   ],
   "source": [
    "# Identify HVGs\n",
    "sc.pp.highly_variable_genes(adata_combined, subset=False, batch_key = 'dataset_of_origin')"
   ]
  },
  {
   "cell_type": "code",
   "execution_count": 16,
   "metadata": {},
   "outputs": [],
   "source": [
    "# Scale\n",
    "sc.pp.scale(adata_combined, max_value=10)\n",
    "adata_combined.layers['log_normalized_scaled_counts'] = adata_combined.X.copy()"
   ]
  },
  {
   "cell_type": "markdown",
   "metadata": {},
   "source": [
    "### Save the data"
   ]
  },
  {
   "cell_type": "code",
   "execution_count": 17,
   "metadata": {},
   "outputs": [],
   "source": [
    "adata_combined.write_h5ad(os.path.join(home_path, 'data_versions/Adata_normalized.h5ad'))"
   ]
  }
 ],
 "metadata": {
  "kernelspec": {
   "display_name": "Python 3 (ipykernel)",
   "language": "python",
   "name": "python3"
  },
  "language_info": {
   "codemirror_mode": {
    "name": "ipython",
    "version": 3
   },
   "file_extension": ".py",
   "mimetype": "text/x-python",
   "name": "python",
   "nbconvert_exporter": "python",
   "pygments_lexer": "ipython3",
   "version": "3.10.12"
  }
 },
 "nbformat": 4,
 "nbformat_minor": 2
}
