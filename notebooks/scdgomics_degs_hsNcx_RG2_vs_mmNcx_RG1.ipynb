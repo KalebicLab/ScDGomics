{
 "cells": [
  {
   "cell_type": "markdown",
   "id": "d25be9f6",
   "metadata": {},
   "source": [
    "### Load libraries"
   ]
  },
  {
   "cell_type": "code",
   "execution_count": 1,
   "id": "c48e51d2",
   "metadata": {},
   "outputs": [
    {
     "name": "stderr",
     "output_type": "stream",
     "text": [
      "/usr/local/lib/python3.10/dist-packages/anndata/utils.py:429: FutureWarning: Importing read_csv from `anndata` is deprecated. Import anndata.io.read_csv instead.\n",
      "  warnings.warn(msg, FutureWarning)\n",
      "/usr/local/lib/python3.10/dist-packages/anndata/utils.py:429: FutureWarning: Importing read_excel from `anndata` is deprecated. Import anndata.io.read_excel instead.\n",
      "  warnings.warn(msg, FutureWarning)\n",
      "/usr/local/lib/python3.10/dist-packages/anndata/utils.py:429: FutureWarning: Importing read_hdf from `anndata` is deprecated. Import anndata.io.read_hdf instead.\n",
      "  warnings.warn(msg, FutureWarning)\n",
      "/usr/local/lib/python3.10/dist-packages/anndata/utils.py:429: FutureWarning: Importing read_loom from `anndata` is deprecated. Import anndata.io.read_loom instead.\n",
      "  warnings.warn(msg, FutureWarning)\n",
      "/usr/local/lib/python3.10/dist-packages/anndata/utils.py:429: FutureWarning: Importing read_mtx from `anndata` is deprecated. Import anndata.io.read_mtx instead.\n",
      "  warnings.warn(msg, FutureWarning)\n",
      "/usr/local/lib/python3.10/dist-packages/anndata/utils.py:429: FutureWarning: Importing read_text from `anndata` is deprecated. Import anndata.io.read_text instead.\n",
      "  warnings.warn(msg, FutureWarning)\n",
      "/usr/local/lib/python3.10/dist-packages/anndata/utils.py:429: FutureWarning: Importing read_umi_tools from `anndata` is deprecated. Import anndata.io.read_umi_tools instead.\n",
      "  warnings.warn(msg, FutureWarning)\n"
     ]
    }
   ],
   "source": [
    "# Basic libraries\n",
    "import os, sys\n",
    "from datetime import date\n",
    "import pandas as pd \n",
    "import numpy as np \n",
    "import scanpy as sc \n",
    "import seaborn as sns\n",
    "import matplotlib.pyplot as plt\n",
    "import warnings\n",
    "\n",
    "# DGE analysis\n",
    "import pydeseq2\n",
    "from pydeseq2.dds import DeseqDataSet\n",
    "from pydeseq2.ds import DeseqStats\n",
    "import decoupler \n",
    "\n",
    "# GO analysis\n",
    "import matplotlib.pyplot as plt\n",
    "from matplotlib.colors import LinearSegmentedColormap\n",
    "import seaborn as sns\n",
    "import gseapy as gp\n",
    "from gseapy.plot import gseaplot"
   ]
  },
  {
   "cell_type": "markdown",
   "id": "95da5475",
   "metadata": {},
   "source": [
    "<i><b> Set the home directory </b></i>"
   ]
  },
  {
   "cell_type": "code",
   "execution_count": 2,
   "id": "de33d828",
   "metadata": {},
   "outputs": [
    {
     "data": {
      "text/plain": [
       "'/group/kalebic/Nikola/1_single_cell_final/Nikola_final/final/scdgomics'"
      ]
     },
     "execution_count": 2,
     "metadata": {},
     "output_type": "execute_result"
    }
   ],
   "source": [
    "# Define the home_path \n",
    "os.environ['HOME_Nikola_scdgomics'] = \"/group/kalebic/Nikola/1_single_cell_final/Nikola_final/final/scdgomics\"\n",
    "home_path = os.getenv(\"HOME_Nikola_scdgomics\")\n",
    "home_path"
   ]
  },
  {
   "cell_type": "markdown",
   "id": "9252ebc9",
   "metadata": {},
   "source": [
    "<i><b> Set the container image </b></i>"
   ]
  },
  {
   "cell_type": "code",
   "execution_count": 3,
   "id": "17e1357a",
   "metadata": {},
   "outputs": [
    {
     "name": "stdout",
     "output_type": "stream",
     "text": [
      "The last use of the container: 2025-06-30\n"
     ]
    }
   ],
   "source": [
    "# Container used for this analysis can be found here : cokorac/cs-core-image-amd64:dev\n",
    "day = date.today()\n",
    "print('The last use of the container:', day)"
   ]
  },
  {
   "cell_type": "markdown",
   "id": "a3722ad7",
   "metadata": {},
   "source": [
    "### Load the data"
   ]
  },
  {
   "cell_type": "code",
   "execution_count": 4,
   "id": "207405fb",
   "metadata": {},
   "outputs": [],
   "source": [
    "# Load the pseudobulked anndata\n",
    "# This pdata file is generated as part of the scdgomics_degs_hsNcx_RG2_vs_mmDG_RG1.ipynb notebook.\n",
    "pdata = sc.read_h5ad('/group/kalebic/Nikola/1_single_cell_final/Nikola_final/final/scdgomics/data_versions/Adata_psedobulk.h5ad')"
   ]
  },
  {
   "cell_type": "markdown",
   "id": "c2a8f757",
   "metadata": {},
   "source": [
    "### DGE analysis "
   ]
  },
  {
   "cell_type": "code",
   "execution_count": 5,
   "id": "85bdfccc",
   "metadata": {},
   "outputs": [],
   "source": [
    "# Subset to clusters of interest\n",
    "brg_hs_ncx_mm_ncx = pdata[pdata.obs['leiden_subclustered_G1_RG_ss_merged'].isin(['human_ncx_RG_2', 'mouse_ncx_RG'])].copy()"
   ]
  },
  {
   "cell_type": "code",
   "execution_count": 6,
   "id": "3aaf3f01",
   "metadata": {},
   "outputs": [],
   "source": [
    "# Store raw counts in layers\n",
    "brg_hs_ncx_mm_ncx.layers['counts'] = brg_hs_ncx_mm_ncx.X.copy()\n",
    "\n",
    "# Normalize, scale and compute pca\n",
    "sc.pp.normalize_total(brg_hs_ncx_mm_ncx, target_sum=1e6, exclude_highly_expressed=True)\n",
    "brg_hs_ncx_mm_ncx.layers['normalized'] = brg_hs_ncx_mm_ncx.X.copy()\n",
    "sc.pp.log1p(brg_hs_ncx_mm_ncx)\n",
    "brg_hs_ncx_mm_ncx.layers['log-normalized'] = brg_hs_ncx_mm_ncx.X.copy()\n",
    "sc.pp.scale(brg_hs_ncx_mm_ncx, max_value=10)\n",
    "brg_hs_ncx_mm_ncx.layers['normalized-scaled'] = brg_hs_ncx_mm_ncx.X.copy()"
   ]
  },
  {
   "cell_type": "code",
   "execution_count": 7,
   "id": "0ed5cdd6",
   "metadata": {},
   "outputs": [
    {
     "data": {
      "text/plain": [
       "AnnData object with n_obs × n_vars = 30 × 8780\n",
       "    obs: 'sample_id', 'leiden_subclustered_G1_RG_ss_merged', 'dataset_of_origin', 'species', 'psbulk_n_cells', 'psbulk_counts'\n",
       "    var: 'highly_variable', 'means', 'dispersions', 'dispersions_norm', 'mean', 'std'\n",
       "    uns: 'log1p'\n",
       "    layers: 'psbulk_props', 'counts', 'normalized', 'log-normalized', 'normalized-scaled'"
      ]
     },
     "execution_count": 7,
     "metadata": {},
     "output_type": "execute_result"
    },
    {
     "data": {
      "image/png": "[encoded data removed]",
      "text/plain": [
       "<Figure size 500x400 with 2 Axes>"
      ]
     },
     "metadata": {},
     "output_type": "display_data"
    }
   ],
   "source": [
    "# Keep only sufficiently abundant genes\n",
    "brg_hs_ncx_mm_ncx.X = brg_hs_ncx_mm_ncx.layers['normalized'].copy()\n",
    "decoupler.plot_filter_by_expr(brg_hs_ncx_mm_ncx, group='leiden_subclustered_G1_RG_ss_merged', min_count=10, min_total_count=100, min_prop = 0.7)\n",
    "genes = decoupler.filter_by_expr(brg_hs_ncx_mm_ncx, group='leiden_subclustered_G1_RG_ss_merged', min_count= 10, min_total_count=100)\n",
    "brg_hs_ncx_mm_ncx_ss = brg_hs_ncx_mm_ncx[:, genes].copy()\n",
    "brg_hs_ncx_mm_ncx_ss"
   ]
  },
  {
   "cell_type": "code",
   "execution_count": 8,
   "id": "99266c0f",
   "metadata": {},
   "outputs": [
    {
     "name": "stderr",
     "output_type": "stream",
     "text": [
      "/tmp/ipykernel_1723627/3157205112.py:4: UserWarning: Same factor names in the design contain underscores ('_'). They will\n",
      "                be converted to hyphens ('-').\n",
      "  dds = DeseqDataSet(\n",
      "/usr/local/lib/python3.10/dist-packages/pydeseq2/dds.py:270: UserWarning: Some factor levels in the design contain underscores ('_').\n",
      "                    They will be converted to hyphens ('-').\n",
      "  self.obsm[\"design_matrix\"] = build_design_matrix(\n"
     ]
    }
   ],
   "source": [
    "# Prepare the DeSeq2 format\n",
    "brg_hs_ncx_mm_ncx_ss.X = brg_hs_ncx_mm_ncx_ss.layers['counts'].copy()\n",
    "\n",
    "dds = DeseqDataSet(\n",
    "    adata = brg_hs_ncx_mm_ncx_ss,    \n",
    "    design_factors= ['leiden_subclustered_G1_RG_ss_merged'],\n",
    "    ref_level=['leiden_subclustered_G1_RG_ss_merged', 'human_ncx_RG_2'],\n",
    "    refit_cooks=True)"
   ]
  },
  {
   "cell_type": "code",
   "execution_count": 9,
   "id": "0a4aa8ca",
   "metadata": {},
   "outputs": [
    {
     "name": "stderr",
     "output_type": "stream",
     "text": [
      "Fitting size factors...\n",
      "... done in 0.01 seconds.\n",
      "\n",
      "Fitting dispersions...\n",
      "... done in 2.84 seconds.\n",
      "\n",
      "Fitting dispersion trend curve...\n",
      "... done in 0.19 seconds.\n",
      "\n",
      "Fitting MAP dispersions...\n",
      "... done in 2.76 seconds.\n",
      "\n",
      "Fitting LFCs...\n",
      "... done in 1.62 seconds.\n",
      "\n",
      "Calculating cook's distance...\n",
      "... done in 0.02 seconds.\n",
      "\n",
      "Replacing 3 outlier genes.\n",
      "\n",
      "Fitting dispersions...\n",
      "... done in 0.01 seconds.\n",
      "\n",
      "Fitting MAP dispersions...\n",
      "... done in 0.01 seconds.\n",
      "\n",
      "Fitting LFCs...\n",
      "... done in 0.01 seconds.\n",
      "\n"
     ]
    }
   ],
   "source": [
    "# Perform deseq2\n",
    "dds.deseq2() "
   ]
  },
  {
   "cell_type": "code",
   "execution_count": 10,
   "id": "fe0764f6",
   "metadata": {},
   "outputs": [
    {
     "name": "stderr",
     "output_type": "stream",
     "text": [
      "Running Wald tests...\n"
     ]
    },
    {
     "name": "stdout",
     "output_type": "stream",
     "text": [
      "Log2 fold change & Wald test p-value: leiden-subclustered-G1-RG-ss-merged human-ncx-RG-2 vs mouse-ncx-RG\n",
      "         baseMean  log2FoldChange     lfcSE       stat        pvalue  \\\n",
      "AAAS     7.998471        0.697473  0.219375   3.179359  1.476011e-03   \n",
      "AACS     6.093438        0.226525  0.280801   0.806709  4.198339e-01   \n",
      "AAGAB    5.754626       -1.630067  0.274304  -5.942556  2.806122e-09   \n",
      "AAK1     7.967079        4.374958  0.399367  10.954740  6.305909e-28   \n",
      "AAMDC   17.863582        0.293335  0.205768   1.425560  1.539954e-01   \n",
      "...           ...             ...       ...        ...           ...   \n",
      "ZXDC     3.872579        1.673873  0.327906   5.104727  3.312726e-07   \n",
      "ZYG11B  15.260423        1.053755  0.163181   6.457576  1.063930e-10   \n",
      "ZYX     12.693829       -0.081725  0.199512  -0.409625  6.820811e-01   \n",
      "ZZEF1    4.901410       -0.023401  0.292025  -0.080132  9.361321e-01   \n",
      "ZZZ3    20.444767        0.247018  0.196316   1.258264  2.082963e-01   \n",
      "\n",
      "                padj  \n",
      "AAAS    2.670385e-03  \n",
      "AACS    4.807802e-01  \n",
      "AAGAB   1.030868e-08  \n",
      "AAK1    1.120767e-26  \n",
      "AAMDC   1.953590e-01  \n",
      "...              ...  \n",
      "ZXDC    9.647009e-07  \n",
      "ZYG11B  4.473805e-10  \n",
      "ZYX     7.290811e-01  \n",
      "ZZEF1   9.482279e-01  \n",
      "ZZZ3    2.572210e-01  \n",
      "\n",
      "[8780 rows x 6 columns]\n"
     ]
    },
    {
     "name": "stderr",
     "output_type": "stream",
     "text": [
      "... done in 0.73 seconds.\n",
      "\n"
     ]
    }
   ],
   "source": [
    "# Output results\n",
    "stat_res = DeseqStats(dds, contrast=['leiden-subclustered-G1-RG-ss-merged', 'human-ncx-RG-2', 'mouse-ncx-RG'])\n",
    "stat_res.summary()"
   ]
  },
  {
   "cell_type": "code",
   "execution_count": 11,
   "id": "bb87b46c",
   "metadata": {},
   "outputs": [],
   "source": [
    "# Output the dataframe\n",
    "results_df = stat_res.results_df\n",
    "# Reindex the dataframe\n",
    "results_df_bRG = results_df.copy()\n",
    "results_df_bRG.reset_index(inplace=True)\n",
    "results_df_bRG.rename(columns ={'index':'gene_name'}, inplace = True)"
   ]
  },
  {
   "cell_type": "code",
   "execution_count": 12,
   "id": "12406cb0",
   "metadata": {},
   "outputs": [],
   "source": [
    "# Convert to -log10padj\n",
    "results_df['log_10_padj'] = -np.log10(results_df['padj'])\n",
    "# Cap the -log10padj\n",
    "cap = 10\n",
    "results_df['log_10_padj_capped'] = np.where(results_df['log_10_padj']>cap, cap, results_df['log_10_padj'])"
   ]
  },
  {
   "cell_type": "code",
   "execution_count": 13,
   "id": "89e16576",
   "metadata": {},
   "outputs": [
    {
     "name": "stdout",
     "output_type": "stream",
     "text": [
      "2845\n",
      "1104\n"
     ]
    }
   ],
   "source": [
    "# Filter the p adjusted \n",
    "DEGs_bRG = results_df[results_df['padj'] < 0.05]\n",
    "# Filtr the log2FC\n",
    "degs_human_up = DEGs_bRG[DEGs_bRG['log2FoldChange'] > 1]\n",
    "degs_human_down = DEGs_bRG[DEGs_bRG['log2FoldChange'] < -1]\n",
    "# Print the number of up and down-regulated genes\n",
    "print(len(degs_human_up))\n",
    "print(len(degs_human_down))"
   ]
  },
  {
   "cell_type": "code",
   "execution_count": 14,
   "id": "c360e34d",
   "metadata": {},
   "outputs": [
    {
     "data": {
      "image/png": "[encoded data removed]",
      "text/plain": [
       "<Figure size 500x350 with 1 Axes>"
      ]
     },
     "metadata": {},
     "output_type": "display_data"
    }
   ],
   "source": [
    "%run -i '/group/kalebic/Nikola/1_single_cell_final/Nikola_final/final/scmorpho_final/helper_functions/Volcano_plot.py'\n",
    "# Plot the volcano plot\n",
    "volcano_plot(df = results_df, df_up=degs_human_up, df_down=degs_human_down)\n",
    "plt.grid(False)\n",
    "plt.tight_layout()\n",
    "plt.savefig('/group/kalebic/Nikola/1_single_cell_final/Nikola_final/final/scdgomics/plots/degs/hs_ncx_rg2_vs_mm_ncx_rg/Volcano_plot_hs_ncx_rg2_vs_mm_ncx_rg.pdf', dpi = 300, bbox_inches = 'tight')\n",
    "plt.show()"
   ]
  },
  {
   "cell_type": "markdown",
   "id": "042e1447",
   "metadata": {},
   "source": [
    "### Save DGE results"
   ]
  },
  {
   "cell_type": "code",
   "execution_count": 15,
   "id": "7f7e6439",
   "metadata": {},
   "outputs": [
    {
     "data": {
      "text/plain": [
       "(8780, 8)"
      ]
     },
     "execution_count": 15,
     "metadata": {},
     "output_type": "execute_result"
    }
   ],
   "source": [
    "# Save the background genes \n",
    "results_df.to_csv('/group/kalebic/Nikola/1_single_cell_final/Nikola_final/final/scdgomics/results/degs/hs_ncx_rg2_vs_mm_ncx_rg/background_genes_hs_ncx_rg2_vs_mm_ncx_rg.csv')\n",
    "results_df.shape"
   ]
  },
  {
   "cell_type": "code",
   "execution_count": 16,
   "id": "bfb17da4",
   "metadata": {},
   "outputs": [
    {
     "name": "stdout",
     "output_type": "stream",
     "text": [
      "2845\n",
      "1104\n"
     ]
    }
   ],
   "source": [
    " # Save the up-regulated genes\n",
    "degs_human_up.to_csv('/group/kalebic/Nikola/1_single_cell_final/Nikola_final/final/scdgomics/results/degs/hs_ncx_rg2_vs_mm_ncx_rg/DEGs_up_hs_ncx_rg2_vs_mm_ncx_rg.csv')\n",
    "print(len(degs_human_up))\n",
    "# Save the down-regulated genes\n",
    "degs_human_down.to_csv('/group/kalebic/Nikola/1_single_cell_final/Nikola_final/final/scdgomics/results/degs/hs_ncx_rg2_vs_mm_ncx_rg/DEGs_down_hs_ncx_rg2_vs_mm_ncx_rg.csv')\n",
    "print(len(degs_human_down))"
   ]
  },
  {
   "cell_type": "markdown",
   "id": "6c3bb2c5",
   "metadata": {},
   "source": [
    "### GO analysis"
   ]
  },
  {
   "cell_type": "code",
   "execution_count": 17,
   "id": "1bd386f8",
   "metadata": {},
   "outputs": [],
   "source": [
    "# Convert background genes to a list\n",
    "background_list = results_df.index.tolist()\n",
    "# Convert up-regulated genes to a list\n",
    "degs_human_up_list = degs_human_up.index.tolist()\n",
    "# Convert down-regulated genes to a list\n",
    "degs_human_down_list = degs_human_down.index.tolist()"
   ]
  },
  {
   "cell_type": "code",
   "execution_count": 18,
   "id": "25f1d5bd",
   "metadata": {},
   "outputs": [],
   "source": [
    "# Load the ontology lists\n",
    "ontology_list = ['/group/kalebic/Nikola/1_single_cell_final/Chiara_final/scadd1ko/.cache/msigdb/c5.go.bp.v2023.2.Hs.symbols.gmt', \n",
    "                 #'/group/kalebic/Nikola/1_single_cell_final/Chiara_final/scadd1ko/.cache/msigdb/c5.go.cc.v2023.2.Hs.symbols.gmt', \n",
    "                 #'/group/kalebic/Nikola/1_single_cell_final/Chiara_final/scadd1ko/.cache/msigdb/c5.go.mf.v2023.2.Hs.symbols.gmt',\n",
    "                 #'/group/kalebic/Nikola/1_single_cell_final/Chiara_final/scadd1ko/.cache/msigdb/c2.cp.v2023.2.Hs.symbols.gmt'\n",
    "                 ]"
   ]
  },
  {
   "cell_type": "code",
   "execution_count": 19,
   "id": "1430f8de",
   "metadata": {},
   "outputs": [],
   "source": [
    "# Perform GO analysis\n",
    "# Up-regulated in human Ncx bRG 1 vs mouse DG bRG 1\n",
    "FAM107A_RG_hsNcx_vs_mmNcx_up = gp.enrichr(gene_list= degs_human_up_list, \n",
    "                                  gene_sets= ontology_list, \n",
    "                                  organism='Human', \n",
    "                                  cutoff=0.5, \n",
    "                                  background = background_list,\n",
    "                                  no_plot= True)\n",
    "\n",
    "FAM107A_RG_hsNcx_vs_mmNcx_up_df = pd.DataFrame(FAM107A_RG_hsNcx_vs_mmNcx_up.results)\n",
    "\n",
    "# Down-regulated in human Ncx bRG 1 vs mouse DG bRG 1\n",
    "FAM107A_RG_hsNcx_vs_mmNcx_down = gp.enrichr(gene_list= degs_human_down_list, \n",
    "                                    gene_sets= ontology_list, \n",
    "                                    organism='Human', \n",
    "                                    cutoff=0.5, \n",
    "                                    background = background_list,\n",
    "                                    no_plot= True)\n",
    "\n",
    "FAM107A_RG_hsNcx_vs_mmNcx_down_df = pd.DataFrame(FAM107A_RG_hsNcx_vs_mmNcx_down.results)"
   ]
  },
  {
   "cell_type": "code",
   "execution_count": 20,
   "id": "dc8db96f",
   "metadata": {},
   "outputs": [],
   "source": [
    " # Save the files\n",
    "# up-regulated GO terms\n",
    "FAM107A_RG_hsNcx_vs_mmNcx_up_df.to_csv('/group/kalebic/Nikola/1_single_cell_final/Nikola_final/final/scdgomics/results/GO/hs_ncx_rg2_vs_mm_ncx_rg/GO_hs_ncx_rg2_vs_mm_ncx_rg_1_UP_enrichment.csv')\n",
    "# down-regulated GO terms\n",
    "FAM107A_RG_hsNcx_vs_mmNcx_down_df.to_csv('/group/kalebic/Nikola/1_single_cell_final/Nikola_final/final/scdgomics/results/GO/hs_ncx_rg2_vs_mm_ncx_rg/GO_hs_ncx_rg2_vs_mm_ncx_rg_1_DOWN_enrichment.csv')"
   ]
  },
  {
   "cell_type": "code",
   "execution_count": 21,
   "id": "6854158f",
   "metadata": {},
   "outputs": [],
   "source": [
    "# Define the 'Gene ontology type' \n",
    "FAM107A_RG_hsNcx_vs_mmNcx_up_df['Ontology_type'] = FAM107A_RG_hsNcx_vs_mmNcx_up_df.Gene_set.str[:8]\n",
    "FAM107A_RG_hsNcx_vs_mmNcx_down_df['Ontology_type'] = FAM107A_RG_hsNcx_vs_mmNcx_down_df.Gene_set.str[:8]"
   ]
  },
  {
   "cell_type": "code",
   "execution_count": 22,
   "id": "531ecde2",
   "metadata": {},
   "outputs": [],
   "source": [
    "# Add the 'regulation' column\n",
    "FAM107A_RG_hsNcx_vs_mmNcx_up_df['regulation'] = 'up-regulated'\n",
    "FAM107A_RG_hsNcx_vs_mmNcx_down_df['regulation'] = 'down-regulated'"
   ]
  },
  {
   "cell_type": "code",
   "execution_count": 23,
   "id": "20b80dcb",
   "metadata": {},
   "outputs": [
    {
     "name": "stdout",
     "output_type": "stream",
     "text": [
      "Total number of significantly up-regulated GO terms: 48\n",
      "Total number of significantly down-regulated GO terms: 15\n"
     ]
    }
   ],
   "source": [
    "# Remove the insignificant terms\n",
    "FAM107A_RG_hsNcx_vs_mmNcx_up_df_sig = FAM107A_RG_hsNcx_vs_mmNcx_up_df[FAM107A_RG_hsNcx_vs_mmNcx_up_df['Adjusted P-value'] < 0.05]\n",
    "FAM107A_RG_hsNcx_vs_mmNcx_down_df_sig = FAM107A_RG_hsNcx_vs_mmNcx_down_df[FAM107A_RG_hsNcx_vs_mmNcx_down_df['Adjusted P-value'] < 0.05]\n",
    "\n",
    "print('Total number of significantly up-regulated GO terms:', len(FAM107A_RG_hsNcx_vs_mmNcx_up_df_sig))\n",
    "print('Total number of significantly down-regulated GO terms:', len(FAM107A_RG_hsNcx_vs_mmNcx_down_df_sig))"
   ]
  },
  {
   "cell_type": "code",
   "execution_count": 24,
   "id": "1f3b9f44",
   "metadata": {},
   "outputs": [],
   "source": [
    "# Sort based on the Combined Score\n",
    "# up-regulated GO terms\n",
    "FAM107A_RG_hsNcx_vs_mmNcx_up_df_sig = FAM107A_RG_hsNcx_vs_mmNcx_up_df_sig.sort_values(by = 'Combined Score', ascending=False)\n",
    "# down-regulated GO terms\n",
    "FAM107A_RG_hsNcx_vs_mmNcx_down_df_sig = FAM107A_RG_hsNcx_vs_mmNcx_down_df_sig.sort_values(by = 'Combined Score', ascending=False)"
   ]
  },
  {
   "cell_type": "code",
   "execution_count": 25,
   "id": "ecdcf30b",
   "metadata": {},
   "outputs": [],
   "source": [
    "# Clean the 'Term' column \n",
    "# up-regulated GO terms\n",
    "FAM107A_RG_hsNcx_vs_mmNcx_up_df_sig['Term_clean'] = FAM107A_RG_hsNcx_vs_mmNcx_up_df_sig.Term.apply(lambda x: x[5:])\n",
    "FAM107A_RG_hsNcx_vs_mmNcx_up_df_sig[\"Term_clean\"] = FAM107A_RG_hsNcx_vs_mmNcx_up_df_sig[\"Term_clean\"].str.replace(\"_\", \" \").str.capitalize()\n",
    "# down-regulated GO terms\n",
    "FAM107A_RG_hsNcx_vs_mmNcx_down_df_sig['Term_clean'] = FAM107A_RG_hsNcx_vs_mmNcx_down_df_sig.Term.apply(lambda x: x[5:])\n",
    "FAM107A_RG_hsNcx_vs_mmNcx_down_df_sig[\"Term_clean\"] = FAM107A_RG_hsNcx_vs_mmNcx_down_df_sig[\"Term_clean\"].str.replace(\"_\", \" \").str.capitalize()"
   ]
  },
  {
   "cell_type": "code",
   "execution_count": 26,
   "id": "b27073b4",
   "metadata": {},
   "outputs": [],
   "source": [
    " # Subset the list of 'up-regulated' GO terms to terms of interest\n",
    "# up-regulated terms\n",
    "terms_of_interest_up = ['Neurogenesis', 'Generation of neurons', 'Neuron development', 'Positive regulation of gtpase activity', \n",
    "                        'Cell part morphogenesis', 'Synaptic signaling', 'Cell cell adhesion', 'Locomotion', 'Cell cell adhesion']\n",
    "\n",
    "FAM107A_RG_hsNcx_vs_mmNcx_up_df_sig_ss = FAM107A_RG_hsNcx_vs_mmNcx_up_df_sig[FAM107A_RG_hsNcx_vs_mmNcx_up_df_sig['Term_clean'].isin(terms_of_interest_up)]\n",
    "\n",
    "# down-regulated terms\n",
    "terms_of_interest_down = ['Rna processing', 'Ribosome biogenesis', 'Dna metabolic process', 'Cell cycle dna replication', 'Ncrna processing', \n",
    "                          'Dna replication initiation']\n",
    "\n",
    "FAM107A_RG_hsNcx_vs_mmNcx_down_df_sig_ss = FAM107A_RG_hsNcx_vs_mmNcx_down_df_sig[FAM107A_RG_hsNcx_vs_mmNcx_down_df_sig['Term_clean'].isin(terms_of_interest_down)]"
   ]
  },
  {
   "cell_type": "code",
   "execution_count": 27,
   "id": "ef241c76",
   "metadata": {},
   "outputs": [],
   "source": [
    "# Concatenate \n",
    "FAM107A_RG_hsNcx_vs_mmNcx_combined = pd.concat([FAM107A_RG_hsNcx_vs_mmNcx_up_df_sig_ss, FAM107A_RG_hsNcx_vs_mmNcx_down_df_sig_ss])\n",
    "\n",
    "# Add negative 'Combined Scores' to down-regulated GO terms\n",
    "FAM107A_RG_hsNcx_vs_mmNcx_combined['Modified Combined Score'] = FAM107A_RG_hsNcx_vs_mmNcx_combined.apply(lambda row: -row['Combined Score'] if \n",
    "                                                                                         row['regulation'] == 'down-regulated' else row['Combined Score'], axis = 1)\n",
    "\n",
    "# Convert the Adjusted P-value to -log10 format\n",
    "FAM107A_RG_hsNcx_vs_mmNcx_combined['-log10(Adjusted P-value)'] = -np.log10(FAM107A_RG_hsNcx_vs_mmNcx_combined['Adjusted P-value'])"
   ]
  },
  {
   "cell_type": "code",
   "execution_count": 28,
   "id": "e33c3b95",
   "metadata": {},
   "outputs": [],
   "source": [
    "# Sort values based on 'Modified Combined Score'\n",
    "FAM107A_RG_hsNcx_vs_mmNcx_combined = FAM107A_RG_hsNcx_vs_mmNcx_combined.sort_values(by='Modified Combined Score', ascending=False)"
   ]
  },
  {
   "cell_type": "code",
   "execution_count": 29,
   "id": "0cf8222f",
   "metadata": {},
   "outputs": [
    {
     "data": {
      "image/png": "[encoded data removed]",
      "text/plain": [
       "<Figure size 400x500 with 1 Axes>"
      ]
     },
     "metadata": {},
     "output_type": "display_data"
    }
   ],
   "source": [
    "%run -i '/group/kalebic/Nikola/1_single_cell_final/Nikola_final/final/scdgomics/helper_functions/GO_barplot.py'\n",
    "# Plot\n",
    "GO_barplot(FAM107A_RG_hsNcx_vs_mmNcx_combined, colorbar=False)\n",
    "# Save the plot\n",
    "#fig = plt.gcf()\n",
    "plt.grid(False)\n",
    "plt.tight_layout()\n",
    "plt.savefig(\"/group/kalebic/Nikola/1_single_cell_final/Nikola_final/final/scdgomics/plots/GO/hs_ncx_rg2_vs_mm_ncx_rg/Barplot_hs_ncx_rg2_vs_mm_ncx_rg.pdf\", dpi = 300, bbox_inches = 'tight')\n",
    "plt.show()"
   ]
  }
 ],
 "metadata": {
  "kernelspec": {
   "display_name": "Python 3 (ipykernel)",
   "language": "python",
   "name": "python3"
  },
  "language_info": {
   "codemirror_mode": {
    "name": "ipython",
    "version": 3
   },
   "file_extension": ".py",
   "mimetype": "text/x-python",
   "name": "python",
   "nbconvert_exporter": "python",
   "pygments_lexer": "ipython3",
   "version": "3.10.12"
  }
 },
 "nbformat": 4,
 "nbformat_minor": 5
}
